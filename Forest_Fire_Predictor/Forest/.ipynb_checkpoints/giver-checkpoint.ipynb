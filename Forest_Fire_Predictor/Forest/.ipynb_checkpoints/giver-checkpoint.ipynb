{
 "cells": [
  {
   "cell_type": "code",
   "execution_count": 150,
   "metadata": {},
   "outputs": [],
   "source": [
    "import utils"
   ]
  },
  {
   "cell_type": "code",
   "execution_count": 151,
   "metadata": {},
   "outputs": [],
   "source": [
    "import pandas as pd\n",
    "import json"
   ]
  },
  {
   "cell_type": "code",
   "execution_count": 152,
   "metadata": {},
   "outputs": [],
   "source": [
    "with open('yash.json') as f:\n",
    "    js = json.load(f)"
   ]
  },
  {
   "cell_type": "code",
   "execution_count": 153,
   "metadata": {},
   "outputs": [],
   "source": [
    "T=js[1]['temperatureHigh']\n",
    "W=js[0]['windSpeed']\n",
    "H=js[2]['humidity']\n",
    "R=js[3]['precipIntensityMax']"
   ]
  },
  {
   "cell_type": "code",
   "execution_count": 154,
   "metadata": {},
   "outputs": [],
   "source": [
    "with open('output.json') as f:\n",
    "    js1 = json.load(f)"
   ]
  },
  {
   "cell_type": "code",
   "execution_count": null,
   "metadata": {},
   "outputs": [],
   "source": []
  },
  {
   "cell_type": "code",
   "execution_count": 155,
   "metadata": {},
   "outputs": [],
   "source": [
    "try:\n",
    "    with open('pre.json') as f:\n",
    "        js2 = json.load(f)\n",
    "    Po=js2['Po']\n",
    "    Do=js2['Do']\n",
    "    fo=js2['Fo']\n",
    "except:\n",
    "    Po=15\n",
    "    Do=33\n",
    "    fo=85"
   ]
  },
  {
   "cell_type": "code",
   "execution_count": null,
   "metadata": {},
   "outputs": [],
   "source": []
  },
  {
   "cell_type": "code",
   "execution_count": null,
   "metadata": {},
   "outputs": [],
   "source": []
  },
  {
   "cell_type": "code",
   "execution_count": 156,
   "metadata": {},
   "outputs": [],
   "source": [
    "x=[]\n",
    "for i in range(1,10):\n",
    "    for j in range(1,10):\n",
    "        x.append(j)\n",
    "\n"
   ]
  },
  {
   "cell_type": "code",
   "execution_count": 157,
   "metadata": {},
   "outputs": [],
   "source": [
    "y=[]\n",
    "for i in range(1,10):\n",
    "    for j in range(1,10):\n",
    "        y.append(i)"
   ]
  },
  {
   "cell_type": "code",
   "execution_count": 158,
   "metadata": {},
   "outputs": [],
   "source": [
    "temp=[]\n",
    "for i in range(0,81):\n",
    "    temp.append(js1[i][1]['temperatureHigh'])\n",
    "humid=[]\n",
    "for i in range(0,81):\n",
    "    humid.append(js1[i][2]['humidity'])\n",
    "Rain=[]\n",
    "for i in range(0,81):\n",
    "    Rain.append(js1[i][3]['precipIntensityMax'])\n",
    "wind=[]\n",
    "for i in range(0,81):\n",
    "    wind.append(js1[i][0]['windSpeed'])\n",
    "\n",
    "\n",
    "    "
   ]
  },
  {
   "cell_type": "code",
   "execution_count": 159,
   "metadata": {},
   "outputs": [],
   "source": [
    "T=temp[0]\n",
    "W=wind[0]\n",
    "R=Rain[0]\n",
    "H=humid[0]\n",
    "ff=utils.ffmc(T,H,W)\n",
    "dm=utils.dmc(R,Po,H,T,10)\n",
    "dro=utils.dc(R,Do,10,T)\n",
    "IS=utils.ISI(T,H,W,fo)"
   ]
  },
  {
   "cell_type": "code",
   "execution_count": 160,
   "metadata": {},
   "outputs": [],
   "source": [
    "from datetime import datetime\n",
    "data={'X':y,'Y':x,'month':'aug','day': datetime.today().strftime('%a').lower(),'FFMC':ff,'DMC':dm,'DC':dro,'ISI':IS,'temp':T,'RH':H,'wind':W,'rain':R}"
   ]
  },
  {
   "cell_type": "code",
   "execution_count": 161,
   "metadata": {},
   "outputs": [],
   "source": [
    "set_=pd.DataFrame(data)"
   ]
  },
  {
   "cell_type": "code",
   "execution_count": 162,
   "metadata": {},
   "outputs": [],
   "source": [
    "set_['area']=float(0)"
   ]
  },
  {
   "cell_type": "code",
   "execution_count": 163,
   "metadata": {},
   "outputs": [],
   "source": [
    "set_.to_csv('adder.csv',index=None)"
   ]
  },
  {
   "cell_type": "code",
   "execution_count": 164,
   "metadata": {},
   "outputs": [],
   "source": [
    "data={'Do':dro,'Fo':ff,'Po':dm}\n",
    "with open('pre.json','w') as f:\n",
    "    json.dump(data,f)"
   ]
  },
  {
   "cell_type": "code",
   "execution_count": null,
   "metadata": {},
   "outputs": [],
   "source": []
  },
  {
   "cell_type": "code",
   "execution_count": null,
   "metadata": {},
   "outputs": [],
   "source": []
  },
  {
   "cell_type": "code",
   "execution_count": null,
   "metadata": {},
   "outputs": [],
   "source": []
  },
  {
   "cell_type": "code",
   "execution_count": null,
   "metadata": {},
   "outputs": [],
   "source": []
  }
 ],
 "metadata": {
  "kernelspec": {
   "display_name": "Python 3",
   "language": "python",
   "name": "python3"
  },
  "language_info": {
   "codemirror_mode": {
    "name": "ipython",
    "version": 3
   },
   "file_extension": ".py",
   "mimetype": "text/x-python",
   "name": "python",
   "nbconvert_exporter": "python",
   "pygments_lexer": "ipython3",
   "version": "3.7.4"
  }
 },
 "nbformat": 4,
 "nbformat_minor": 2
}

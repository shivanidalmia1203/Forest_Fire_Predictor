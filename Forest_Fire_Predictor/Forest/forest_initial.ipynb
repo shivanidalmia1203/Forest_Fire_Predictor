{
 "cells": [
  {
   "cell_type": "code",
   "execution_count": 96,
   "metadata": {},
   "outputs": [],
   "source": [
    "#ffmc tick\n",
    "#dc tick\n",
    "#dmc tick\n",
    "#isi tick\n",
    "#api for weather details\n",
    "#coordinates of west-singhbham tick\n",
    "#ML applied on dataset\n",
    "#use it on calculated value\n",
    "#make script to regularly update the details\n",
    "# return json\n",
    "# part 2\n",
    "# heatmap from nasa \n",
    "# or cluster from cal data\n",
    "# use cluster coordinates on our forest\n",
    "# or use common sense / general research"
   ]
  },
  {
   "cell_type": "code",
   "execution_count": null,
   "metadata": {},
   "outputs": [],
   "source": []
  },
  {
   "cell_type": "code",
   "execution_count": null,
   "metadata": {},
   "outputs": [],
   "source": []
  },
  {
   "cell_type": "code",
   "execution_count": null,
   "metadata": {},
   "outputs": [],
   "source": [
    "\n"
   ]
  },
  {
   "cell_type": "code",
   "execution_count": 97,
   "metadata": {},
   "outputs": [],
   "source": [
    "import pandas as pd\n",
    "import math"
   ]
  },
  {
   "cell_type": "code",
   "execution_count": null,
   "metadata": {},
   "outputs": [],
   "source": []
  },
  {
   "cell_type": "code",
   "execution_count": null,
   "metadata": {},
   "outputs": [],
   "source": []
  },
  {
   "cell_type": "code",
   "execution_count": 98,
   "metadata": {},
   "outputs": [],
   "source": [
    "glom=0\n",
    "def ffmc(T,H,W,fo=85):\n",
    "    mo= 205.2*(101-fo)/(82.9+fo)\n",
    "    Ed= (0.942*H)**0.679 + 11*math.exp((H-100)/10)+0.18*(21.1-T)*(1-math.exp(-0.115*H))\n",
    "    if mo>Ed:\n",
    "        ka=0.424*(1-(H/100)**1.7) + (0.0684*W**0.5)*(1-(H/100)**8)\n",
    "        kd=0.0579*ka*(math.exp(0.0365*T))\n",
    "        m=Ed+((mo-Ed)*(math.exp(-2.303*kd)))\n",
    "    if mo<Ed:\n",
    "        Ew= (0.618*H)**0.753 + 10*math.exp((H-100)/10)+0.18*(21.1-T)*(1-math.exp(-0.115*H))\n",
    "        if mo<Ew:\n",
    "            kb=0.424*(1-((100-H)/100)**1.7)+(0.0664*(W**0.5))*(1-((100-H)/100)**8)\n",
    "            kw=0.0579*kb*(math.exp(0.0365*T))\n",
    "            m=Ew-((Ew-mo)*(math.exp(-2.303*kw)))\n",
    "        if mo==Ed or mo==Ew:\n",
    "            m=mo\n",
    "        if Ed>mo>Ew:\n",
    "            m=mo\n",
    "    glom=m\n",
    "    F=(82.9*(250-m))\n",
    "    F=F/(205.2+m)\n",
    "    return F\n",
    "    \n",
    "    \n",
    "    \n",
    "    \n",
    "    "
   ]
  },
  {
   "cell_type": "code",
   "execution_count": 99,
   "metadata": {},
   "outputs": [],
   "source": [
    "def dmc(R,Po,H,T,Month):\n",
    "    if R>1.5:\n",
    "        re=0.92*R -1.27\n",
    "    else:\n",
    "        re=R\n",
    "    Mo=20+math.exp(5.6348-(Po/43.43))\n",
    "    if Po<=33:\n",
    "        b=100/(0.5+0.3*Po)\n",
    "    if Po<=65:\n",
    "        b=14-1.3*math.log(Po)\n",
    "    else:\n",
    "        b=6.2*math.log(po*17.2)\n",
    "    Mr=Mo+((1000*re)/(48.77+b*re))\n",
    "    Pr=244.72-43.43*(math.log(Mr-20))\n",
    "    Le=[6.5,7.5,9.0,12.8,13.9,13.9,12.4,10.9,9.4,8.0,7.0,6.0]\n",
    "    K=1.894*(T+1.1)*(100-H)*Le[Month]*(10**(-6))\n",
    "    P=Po+100*K\n",
    "    return P"
   ]
  },
  {
   "cell_type": "code",
   "execution_count": 100,
   "metadata": {},
   "outputs": [],
   "source": [
    "def dc(R,Do,month,T):\n",
    "    if R>2.8:\n",
    "        rd=0.83*R-1.27\n",
    "    else:\n",
    "        rd=R\n",
    "    Qo=800*math.exp(Do/400)\n",
    "    Qr=Qo+3.937*rd\n",
    "    Dr=400*math.log(800/Qr)\n",
    "    lf=[-1.6,-1.6,-1.6,0.9,3.8,5.8,6.4,5.0,2.4,0.4,-1.6,-1.6]\n",
    "    V=0.36*(T+2.8)+lf[month]\n",
    "    D=Do+0.5*V\n",
    "    return D"
   ]
  },
  {
   "cell_type": "code",
   "execution_count": null,
   "metadata": {},
   "outputs": [],
   "source": []
  },
  {
   "cell_type": "code",
   "execution_count": 101,
   "metadata": {},
   "outputs": [],
   "source": [
    "def ISI(W):\n",
    "    fw=math.exp(0.05039*W)\n",
    "    ff=91.9*math.exp(-0.1386*glom)*(1+(glom**5.31)/((4.93)*(10**7)))\n",
    "    R=0.208*fw*ff\n",
    "    return R"
   ]
  },
  {
   "cell_type": "code",
   "execution_count": null,
   "metadata": {},
   "outputs": [],
   "source": []
  },
  {
   "cell_type": "code",
   "execution_count": 93,
   "metadata": {},
   "outputs": [],
   "source": [
    "#rest taken by json"
   ]
  },
  {
   "cell_type": "code",
   "execution_count": 94,
   "metadata": {},
   "outputs": [],
   "source": [
    "# data prepared"
   ]
  },
  {
   "cell_type": "code",
   "execution_count": null,
   "metadata": {},
   "outputs": [],
   "source": []
  }
 ],
 "metadata": {
  "kernelspec": {
   "display_name": "Python 3",
   "language": "python",
   "name": "python3"
  },
  "language_info": {
   "codemirror_mode": {
    "name": "ipython",
    "version": 3
   },
   "file_extension": ".py",
   "mimetype": "text/x-python",
   "name": "python",
   "nbconvert_exporter": "python",
   "pygments_lexer": "ipython3",
   "version": "3.7.4"
  }
 },
 "nbformat": 4,
 "nbformat_minor": 2
}
